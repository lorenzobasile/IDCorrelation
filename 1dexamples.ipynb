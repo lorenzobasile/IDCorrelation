{
 "cells": [
  {
   "cell_type": "code",
   "execution_count": 1,
   "id": "e0124b37",
   "metadata": {},
   "outputs": [],
   "source": [
    "import torch\n",
    "import numpy as np\n",
    "from utils.metrics import distance_correlation, id_correlation"
   ]
  },
  {
   "cell_type": "code",
   "execution_count": 2,
   "id": "7d7f9827-1e5f-4000-bcf9-522b947b0328",
   "metadata": {},
   "outputs": [],
   "source": [
    "def linear_correlation(X, Y):\n",
    "    return np.corrcoef(X, Y, rowvar=False)[0,1]**2"
   ]
  },
  {
   "cell_type": "code",
   "execution_count": 3,
   "id": "7cf0da94-8abf-4fa4-a574-2cf303c3ce91",
   "metadata": {},
   "outputs": [],
   "source": [
    "np.random.seed(42)\n",
    "torch.manual_seed(42)\n",
    "\n",
    "N_points=5000\n",
    "\n",
    "linear_X=torch.as_tensor(np.random.uniform(-1, 1, (N_points,1)), dtype=torch.float64)\n",
    "linear_Y=linear_X\n",
    "theta=torch.as_tensor(np.random.uniform(0, 6*np.pi, (N_points,1)), dtype=torch.float64)\n",
    "r=theta/(6*np.pi)\n",
    "spiral_X=r*torch.cos(theta)\n",
    "spiral_Y=r*torch.sin(theta)\n",
    "random_X=torch.as_tensor(np.random.normal(0, 1, (N_points,1)), dtype=torch.float64)\n",
    "random_Y=torch.as_tensor(np.random.normal(0, 1, (N_points,1)), dtype=torch.float64)"
   ]
  },
  {
   "cell_type": "code",
   "execution_count": 4,
   "id": "4d6b2f87",
   "metadata": {},
   "outputs": [
    {
     "name": "stdout",
     "output_type": "stream",
     "text": [
      "0.0008252646515828561\n",
      "0.001042892807953913\n",
      "{'corr': -0.002249577075401708, 'p': 0.3465346395969391, 'id': 1.985425900470866, 'id1': 0.9634566105180464, 'id2': 1.0196754514329263}\n"
     ]
    }
   ],
   "source": [
    "print(linear_correlation(random_X, random_Y))\n",
    "print(distance_correlation(random_X, random_Y))\n",
    "print(id_correlation(random_X, random_Y))"
   ]
  },
  {
   "cell_type": "code",
   "execution_count": 5,
   "id": "459675af-25e6-4f0e-bbfe-99649436f87f",
   "metadata": {
    "collapsed": true,
    "jupyter": {
     "outputs_hidden": true,
     "source_hidden": true
    },
    "tags": []
   },
   "outputs": [
    {
     "name": "stdout",
     "output_type": "stream",
     "text": [
      "1.0\n",
      "0.9999999845024797\n",
      "{'corr': 1.0000000000000004, 'p': 0.009900989942252636, 'id': 0.9804933671188351, 'id1': 0.9804933671188354, 'id2': 0.9804933671188354}\n"
     ]
    }
   ],
   "source": [
    "print(linear_correlation(linear_X, linear_Y))\n",
    "print(distance_correlation(linear_X, linear_Y))\n",
    "print(id_correlation(linear_X, linear_Y))"
   ]
  },
  {
   "cell_type": "code",
   "execution_count": 6,
   "id": "2abccd06-240f-4d0c-98ea-1a76743baf23",
   "metadata": {},
   "outputs": [
    {
     "name": "stdout",
     "output_type": "stream",
     "text": [
      "0.007232609880441324\n",
      "0.01603882441989698\n",
      "{'corr': 0.9429397872719993, 'p': 0.009900989942252636, 'id': 1.0659520346589069, 'id1': 1.0281710581410988, 'id2': 1.0072843753606022}\n"
     ]
    }
   ],
   "source": [
    "print(linear_correlation(spiral_X, spiral_Y))\n",
    "print(distance_correlation(spiral_X, spiral_Y))\n",
    "print(id_correlation(spiral_X, spiral_Y))"
   ]
  }
 ],
 "metadata": {
  "kernelspec": {
   "display_name": "Python 3 (ipykernel)",
   "language": "python",
   "name": "python3"
  },
  "language_info": {
   "codemirror_mode": {
    "name": "ipython",
    "version": 3
   },
   "file_extension": ".py",
   "mimetype": "text/x-python",
   "name": "python",
   "nbconvert_exporter": "python",
   "pygments_lexer": "ipython3",
   "version": "3.9.13"
  }
 },
 "nbformat": 4,
 "nbformat_minor": 5
}
